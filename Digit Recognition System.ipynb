{
 "cells": [
  {
   "cell_type": "code",
   "execution_count": 1,
   "metadata": {
    "collapsed": false
   },
   "outputs": [],
   "source": [
    "import numpy as np\n",
    "\n",
    "import matplotlib.pyplot as py\n",
    "%matplotlib inline\n",
    "import scipy.special as sc\n",
    "import matplotlib.pyplot\n",
    "%matplotlib inline"
   ]
  },
  {
   "cell_type": "code",
   "execution_count": 2,
   "metadata": {
    "collapsed": false
   },
   "outputs": [],
   "source": [
    "data_file=open(\"mnist_train.csv\",'r')\n",
    "data=data_file.readlines()\n",
    "test_file=open(\"mnist_test.csv\",'r')\n",
    "test=test_file.readlines()\n",
    "data_file.close()\n",
    "test_file.close()"
   ]
  },
  {
   "cell_type": "code",
   "execution_count": 3,
   "metadata": {
    "collapsed": false
   },
   "outputs": [],
   "source": [
    "class neuralNetwork:\n",
    "   \n",
    "    \n",
    "    def __init__(self,inputnodes,outputnodes,hiddennodes,learningrate):\n",
    "        self.inodes=inputnodes\n",
    "        self.onodes=outputnodes\n",
    "        self.hnodes=hiddennodes\n",
    "        self.wih=np.random.normal(0.0,pow(self.hnodes,-0.5),(self.hnodes,self.inodes))\n",
    "        self.who=np.random.normal(0.0,pow(self.onodes,-0.5),(self.onodes,self.hnodes))\n",
    "        self.lr=learningrate\n",
    "        self.activation_function=lambda x:sc.expit(x)\n",
    "        pass\n",
    "    \n",
    "    def train(self,input_list,final_list):\n",
    "        inputs=np.array(input_list,ndmin=2).T\n",
    "        targets=np.array(final_list,ndmin=2).T\n",
    "        \n",
    "        hidden_inputs=np.dot(self.wih,inputs)\n",
    "        hidden_outputs= self.activation_function(hidden_inputs)\n",
    "        \n",
    "        final_inputs=np.dot(self.who,hidden_outputs)\n",
    "        final_outputs=self.activation_function(final_inputs)\n",
    "        output_error=targets-final_outputs\n",
    "        hidden_error=np.dot(self.who.T,output_error)\n",
    "        self.who+=self.lr*np.dot(output_error*final_outputs*(1.0-final_outputs),np.transpose(hidden_outputs))\n",
    "        self.wih+=self.lr*np.dot(hidden_error*hidden_outputs*(1.0-hidden_outputs),np.transpose(inputs))\n",
    "        pass\n",
    "    def query(self,input_list):\n",
    "        inputs=np.array(input_list,ndmin=2).T\n",
    "        \n",
    "        \n",
    "        hidden_inputs=np.dot(self.wih,inputs)\n",
    "        hidden_outputs=self.activation_function(hidden_inputs)\n",
    "        final_inputs=np.dot(self.who,hidden_outputs)\n",
    "        final_outputs=self.activation_function(final_inputs)\n",
    "        return final_outputs\n",
    "        \n",
    "    "
   ]
  },
  {
   "cell_type": "code",
   "execution_count": 4,
   "metadata": {
    "collapsed": false
   },
   "outputs": [],
   "source": [
    "learningrate=0.1\n",
    "inputnodes=784\n",
    "outputnodes=10\n",
    "hiddennodes=200\n",
    "\n",
    "t=neuralNetwork(inputnodes,outputnodes,hiddennodes,learningrate)\n"
   ]
  },
  {
   "cell_type": "code",
   "execution_count": 5,
   "metadata": {
    "collapsed": false,
    "scrolled": false
   },
   "outputs": [],
   "source": [
    "for m in range(2):\n",
    " \n",
    " for record in data:\n",
    "    x=record.split(',')\n",
    "\n",
    "    all_values=((np.asfarray(x[1:])/255.0)*0.99)+0.01\n",
    "    targets=np.zeros(outputnodes)+0.01\n",
    "    targets[int(x[0])]=0.99\n",
    "    t.train(all_values,targets)\n",
    "    \n",
    "    pass\n",
    "pass    "
   ]
  },
  {
   "cell_type": "code",
   "execution_count": 6,
   "metadata": {
    "collapsed": false
   },
   "outputs": [],
   "source": [
    "scorecard=[]\n",
    "\n",
    "for record in test:\n",
    "    x=record.split(',')\n",
    "\n",
    "    all_values=((np.asfarray(x[1:])/255.0)*0.99)+0.01\n",
    "    result= t.query(all_values)\n",
    "    label=int(x[0])\n",
    "    result=np.argmax(result)\n",
    "    if(label==result):\n",
    "        scorecard.append(1)\n",
    "    else:\n",
    "        scorecard.append(0)\n",
    "    pass\n"
   ]
  },
  {
   "cell_type": "code",
   "execution_count": 7,
   "metadata": {
    "collapsed": false
   },
   "outputs": [
    {
     "name": "stdout",
     "output_type": "stream",
     "text": [
      "0.966\n"
     ]
    }
   ],
   "source": [
    "scorecard=np.asarray(scorecard)\n",
    "print(scorecard.sum()/scorecard.size)"
   ]
  },
  {
   "cell_type": "code",
   "execution_count": 16,
   "metadata": {
    "collapsed": false
   },
   "outputs": [
    {
     "data": {
      "text/plain": [
       "<matplotlib.image.AxesImage at 0x22d73586b00>"
      ]
     },
     "execution_count": 16,
     "metadata": {},
     "output_type": "execute_result"
    },
    {
     "data": {
      "image/png": "[encoded data removed]",
      "text/plain": [
       "<matplotlib.figure.Figure at 0x22d7353a4a8>"
      ]
     },
     "metadata": {},
     "output_type": "display_data"
    }
   ],
   "source": [
    "import scipy.misc\n",
    "img_array=scipy.misc.imread('four.png',flatten=True)\n",
    "img_data=255.0-img_array.reshape(784)\n",
    "img_data=((img_data/255.0)*0.99)+0.01\n",
    "matplotlib.pyplot.imshow(img_data.reshape(28,28), cmap='Greys', interpolation='None')"
   ]
  },
  {
   "cell_type": "code",
   "execution_count": 18,
   "metadata": {
    "collapsed": false
   },
   "outputs": [
    {
     "name": "stdout",
     "output_type": "stream",
     "text": [
      "[[ 0.00592913]\n",
      " [ 0.00914615]\n",
      " [ 0.00743372]\n",
      " [ 0.61554561]\n",
      " [ 0.00063282]\n",
      " [ 0.18562178]\n",
      " [ 0.02491085]\n",
      " [ 0.00256876]\n",
      " [ 0.0038465 ]\n",
      " [ 0.00579515]]\n"
     ]
    },
    {
     "data": {
      "text/plain": [
       "3"
      ]
     },
     "execution_count": 18,
     "metadata": {},
     "output_type": "execute_result"
    }
   ],
   "source": [
    "print(t.query(img_data))\n",
    "np.argmax(t.query(img_data))"
   ]
  },
  {
   "cell_type": "code",
   "execution_count": null,
   "metadata": {
    "collapsed": true
   },
   "outputs": [],
   "source": []
  }
 ],
 "metadata": {
  "anaconda-cloud": {},
  "kernelspec": {
   "display_name": "Python [default]",
   "language": "python",
   "name": "python3"
  },
  "language_info": {
   "codemirror_mode": {
    "name": "ipython",
    "version": 3
   },
   "file_extension": ".py",
   "mimetype": "text/x-python",
   "name": "python",
   "nbconvert_exporter": "python",
   "pygments_lexer": "ipython3",
   "version": "3.5.2"
  }
 },
 "nbformat": 4,
 "nbformat_minor": 1
}
